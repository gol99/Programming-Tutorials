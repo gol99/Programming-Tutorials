{
  "nbformat": 4,
  "nbformat_minor": 0,
  "metadata": {
    "kernelspec": {
      "display_name": "Python 3",
      "language": "python",
      "name": "python3"
    },
    "language_info": {
      "codemirror_mode": {
        "name": "ipython",
        "version": 3
      },
      "file_extension": ".py",
      "mimetype": "text/x-python",
      "name": "python",
      "nbconvert_exporter": "python",
      "pygments_lexer": "ipython3",
      "version": "3.6.8"
    },
    "colab": {
      "name": "05_Exercises_Implementation.ipynb",
      "provenance": [],
      "collapsed_sections": [],
      "include_colab_link": true
    }
  },
  "cells": [
    {
      "cell_type": "markdown",
      "metadata": {
        "id": "view-in-github",
        "colab_type": "text"
      },
      "source": [
        "<a href=\"https://colab.research.google.com/github/gol99/Programming-Tutorials/blob/master/05_Exercises_Implementation.ipynb\" target=\"_parent\"><img src=\"https://colab.research.google.com/assets/colab-badge.svg\" alt=\"Open In Colab\"/></a>"
      ]
    },
    {
      "cell_type": "markdown",
      "metadata": {
        "id": "OUku8Ww-mI1G"
      },
      "source": [
        "# Loop implementation\n",
        "First, we define a function that computes the polynomial using a loop. We can add `print` statements in different parts of the function to ilustrate the steps."
      ]
    },
    {
      "cell_type": "code",
      "metadata": {
        "id": "JUjkElDqmI1a"
      },
      "source": [
        "def p_loop(x, coef):\n",
        "  print(\"Start loop implementation...\")\n",
        "  total = 0 # Keep track of value of the polynominal \n",
        "\n",
        "  # Iterate over the coefficients \n",
        "  for i, a in enumerate(coef):\n",
        "    total = total + (a*(x**i))\n",
        "    print(\"Adding the coefficient {} multiplied by x**{}\".format(a,i))\n",
        "  \n",
        "  return total"
      ],
      "execution_count": null,
      "outputs": []
    },
    {
      "cell_type": "markdown",
      "metadata": {
        "id": "2qGbwfyNmI1c"
      },
      "source": [
        "# Matrix algebra implementation\n",
        "There are a couple of functions from the `numpy` library that might be useful for the task at hand:\n",
        "- [`numpy.cumprod`](https://docs.scipy.org/doc/numpy/reference/generated/numpy.cumprod.html): Return the cumulative product of elements along a given axis.\n",
        "- [`numpy.dot`](https://docs.scipy.org/doc/numpy/reference/generated/numpy.dot.html): Dot product of two arrays.\n",
        "\n",
        "It's also a good idea to ilustrate how this function works using `print` statements."
      ]
    },
    {
      "cell_type": "code",
      "metadata": {
        "id": "cTHUksz8mI1f"
      },
      "source": [
        "import numpy as np \n",
        "\n",
        "def p_ma(x, coef):\n",
        "  print(\"Start matrix algebra implementation...\")\n",
        "\n",
        "  vecX = np.empty(len(coef))\n",
        "  print(\"Create empty vector of xs:\\n {}\".format(vecX))\n",
        "\n",
        "  vecX[0] = 1\n",
        "  print(\"Assign 1 to the first element of the vector of xs:\\n {}\".format(vecX))\n",
        "\n",
        "  vecX[1:] = x\n",
        "  print(\"Assign x to the remaining elements of the the vector:\\n {}\".format(vecX))\n",
        "\n",
        "  vecX = np.cumprod(vecX)\n",
        "  print(\"Power each x to the appropiate exponent:\\n {}\".format(vecX)) \n",
        "\n",
        "  return np.dot(coef,vecX)"
      ],
      "execution_count": null,
      "outputs": []
    },
    {
      "cell_type": "markdown",
      "metadata": {
        "id": "uGIsDoAomI1g"
      },
      "source": [
        "# Output comparison\n",
        "Both implementation should yield almost identical results. We can write a little code to compare both implementations."
      ]
    },
    {
      "cell_type": "code",
      "metadata": {
        "colab": {
          "base_uri": "https://localhost:8080/"
        },
        "id": "QEmd3j9kmI1h",
        "outputId": "0034f251-09cc-46f0-a577-b9f5ded26f0c"
      },
      "source": [
        "n_coef = 5 # Number of coefficients \n",
        "LowerBound = 1 # Smallest possible \n",
        "UpperBound = 50 # Biggest possible coefficient\n",
        "sample_coef = np.random.randint(LowerBound, UpperBound, size = n_coef) # Random coefficients between bounds \n",
        "print(\"The list of coefficients is \\n {} \\n\".format(sample_coef))\n",
        "\n",
        "eval_x = 2 # at which polynomial is evaluated \n",
        "\n",
        "print(\"The loop implementation returs {}\".format(p_loop(eval_x,sample_coef)))\n",
        "print(\"\\n\")\n",
        "print(\"The matrix implementation returns {}\".format(p_ma(eval_x,sample_coef)))"
      ],
      "execution_count": null,
      "outputs": [
        {
          "output_type": "stream",
          "text": [
            "The list of coefficients is \n",
            " [12 39 41 40  2] \n",
            "\n",
            "Start loop implementation...\n",
            "Adding the coefficient 12 multiplied by x**0\n",
            "Adding the coefficient 39 multiplied by x**1\n",
            "Adding the coefficient 41 multiplied by x**2\n",
            "Adding the coefficient 40 multiplied by x**3\n",
            "Adding the coefficient 2 multiplied by x**4\n",
            "The loop implementation returs 606\n",
            "\n",
            "\n",
            "Start matrix algebra implementation...\n",
            "Create empty vector of xs:\n",
            " [9.88e-324 1.63e-322 8.40e-323 8.89e-323 9.39e-323]\n",
            "Assign 1 to the first element of the vector of xs:\n",
            " [1.00e+000 1.63e-322 8.40e-323 8.89e-323 9.39e-323]\n",
            "Assign x to the remaining elements of the the vector:\n",
            " [1. 2. 2. 2. 2.]\n",
            "Power each x to the appropiate exponent:\n",
            " [ 1.  2.  4.  8. 16.]\n",
            "The matrix implementation returns 606.0\n"
          ],
          "name": "stdout"
        }
      ]
    },
    {
      "cell_type": "markdown",
      "metadata": {
        "id": "jGYWwGJHmI1j"
      },
      "source": [
        "# Performance comparison\n",
        "We want to know which of the two implementations is faster. In order to measure the time difference between the two implementations, first we need to create a version of the two functions that does **not** use any `print` statements. These statements consume time and we do not want our measure of time to be contaminted by that."
      ]
    },
    {
      "cell_type": "code",
      "metadata": {
        "id": "GvfAiCT9mI1k"
      },
      "source": [
        "def p_loop(x, coef):\n",
        "  total = 0 # Keep track of value of the polynominal \n",
        "\n",
        "  # Iterate over the coefficients \n",
        "  for i, a in enumerate(coef):\n",
        "    total = total + (a*(x**i))\n",
        "  \n",
        "  return total"
      ],
      "execution_count": null,
      "outputs": []
    },
    {
      "cell_type": "code",
      "metadata": {
        "id": "s3I3lgJOmI1l"
      },
      "source": [
        "def p_ma(x, coef):\n",
        "  vecX = np.empty(len(coef))\n",
        "  vecX[0] = 1\n",
        "  vecX[1:] = x\n",
        "  vecX = np.cumprod(vecX)\n",
        "\n",
        "  return np.dot(coef,vecX)"
      ],
      "execution_count": null,
      "outputs": []
    },
    {
      "cell_type": "markdown",
      "metadata": {
        "id": "KxseYKErmI1m"
      },
      "source": [
        "Now we want a *big* list of coefficients to evaluate both functions and a point in which to evaluate the polynomial."
      ]
    },
    {
      "cell_type": "code",
      "metadata": {
        "id": "seZtGaoymI1n"
      },
      "source": [
        "n_coef = 10000000 # Number of coefficients \n",
        "LowerBound = 1 # Smallest possible \n",
        "UpperBound = 50 # Biggest possible coefficient\n",
        "sample_coef = np.random.randint(LowerBound, UpperBound, size = n_coef) # Random coefficients between bounds\n",
        "\n",
        "eval_x = 1"
      ],
      "execution_count": null,
      "outputs": []
    },
    {
      "cell_type": "markdown",
      "metadata": {
        "id": "I9g8qGe_mI1p"
      },
      "source": [
        "In order to mesure time we need to use the [`time` library](https://docs.python.org/dev/library/time.html). For our loop implementation, we do:"
      ]
    },
    {
      "cell_type": "code",
      "metadata": {
        "colab": {
          "base_uri": "https://localhost:8080/"
        },
        "id": "GiFPf-HAmI1q",
        "outputId": "d6522959-ad19-4fd7-fdd2-3e42ae67b010"
      },
      "source": [
        "import time\n",
        "\n",
        "start = time.time() \n",
        "loop_result = p_loop(eval_x, sample_coef) \n",
        "end = time.time() \n",
        "\n",
        "print(\"The loop implementation returs {} as output in {} seconds\".format(loop_result, (end-start)))"
      ],
      "execution_count": null,
      "outputs": [
        {
          "output_type": "stream",
          "text": [
            "The loop implementation returs 250026989 as output in 7.852407217025757 seconds\n"
          ],
          "name": "stdout"
        }
      ]
    },
    {
      "cell_type": "markdown",
      "metadata": {
        "id": "kp6mtyp0mI1r"
      },
      "source": [
        "Same idea for the matrix algebra implementation:"
      ]
    },
    {
      "cell_type": "code",
      "metadata": {
        "colab": {
          "base_uri": "https://localhost:8080/"
        },
        "id": "DsoIY2aYmI1r",
        "outputId": "2d4e6932-29ad-44a5-8a3f-362dafbb4565"
      },
      "source": [
        "start = time.time() \n",
        "ma_result = p_ma(eval_x, sample_coef) \n",
        "end = time.time() \n",
        "\n",
        "print(\"The matrix implementation returs {} as output in {} seconds\".format(ma_result, (end-start)))"
      ],
      "execution_count": null,
      "outputs": [
        {
          "output_type": "stream",
          "text": [
            "The matrix implementation returs 24983883.0 as output in 0.02220773696899414 seconds\n"
          ],
          "name": "stdout"
        }
      ]
    },
    {
      "cell_type": "markdown",
      "metadata": {
        "id": "2HGNxbM9mI1s"
      },
      "source": [
        "# Just-in-Time (JIT) compilation\n",
        "There is a lot of material out there about how to code efficientlty (in terms of time performance) in Python. For example, [here](https://lectures.quantecon.org/py/numba.html) you can find some information on how to use the library `Numba` to improve performance. One of the many features of this library is the [Just-in-Time Compilation](https://numba.pydata.org/numba-doc/dev/reference/jit-compilation.html). We can use it to see if we can improve the performance of our functions."
      ]
    },
    {
      "cell_type": "code",
      "metadata": {
        "id": "M7Jfbu8vmI1t"
      },
      "source": [
        "from numba import jit\n",
        "\n",
        "p_loop_jit = jit(p_loop)\n",
        "p_ma_jit = jit(p_ma, forceobj=True)"
      ],
      "execution_count": null,
      "outputs": []
    },
    {
      "cell_type": "code",
      "metadata": {
        "colab": {
          "base_uri": "https://localhost:8080/"
        },
        "id": "vLZw-TugyTkX",
        "outputId": "86675d59-6eed-4768-c53b-57a663731871"
      },
      "source": [
        "start = time.time() \n",
        "loop_result = p_loop_jit(eval_x, sample_coef) \n",
        "end = time.time() \n",
        "\n",
        "print(\"The JIT loop implementation returs {} as output in {} seconds\".format(loop_result, (end-start)))"
      ],
      "execution_count": null,
      "outputs": [
        {
          "output_type": "stream",
          "text": [
            "The JIT loop implementation returs 250026989 as output in 0.34772229194641113 seconds\n"
          ],
          "name": "stdout"
        }
      ]
    },
    {
      "cell_type": "code",
      "metadata": {
        "colab": {
          "base_uri": "https://localhost:8080/"
        },
        "id": "1VtC13LpyT_N",
        "outputId": "de987f78-4c77-4462-eed7-444e1505710c"
      },
      "source": [
        "start = time.time() \n",
        "ma_result = p_ma(eval_x, sample_coef) \n",
        "end = time.time() \n",
        "\n",
        "print(\"The matrix implementation returs {} as output in {} seconds\".format(ma_result, (end-start)))"
      ],
      "execution_count": null,
      "outputs": [
        {
          "output_type": "stream",
          "text": [
            "The matrix implementation returs 250026989.0 as output in 0.12703466415405273 seconds\n"
          ],
          "name": "stdout"
        }
      ]
    }
  ]
}